{
 "cells": [
  {
   "cell_type": "markdown",
   "metadata": {},
   "source": [
    "# Fraud Detection - Exploratory Data Analysis\n",
    "\n",
    "This notebook explores the synthetic fraud detection dataset and provides insights into transaction patterns."
   ]
  },
  {
   "cell_type": "code",
   "execution_count": null,
   "metadata": {},
   "outputs": [],
   "source": [
    "import pandas as pd\nimport numpy as np\nimport matplotlib.pyplot as plt\nimport seaborn as sns\nfrom scipy import stats\n\n# Set style\nplt.style.use('default')\nsns.set_palette('husl')\n\n# Display options\npd.set_option('display.max_columns', None)\nprint('✅ Libraries imported successfully!')"
   ]
  },
  {
   "cell_type": "code",
   "execution_count": null,
   "metadata": {},
   "outputs": [],
   "source": [
    "# Generate data first\nexec(open('../src/data_processing/generate_data.py').read())\n\n# Load the dataset\ndf = pd.read_csv('../data/raw/fraud_data.csv')\nprint(f'Dataset loaded: {df.shape}')\ndf.head()"
   ]
  },
  {
   "cell_type": "code",
   "execution_count": null,
   "metadata": {},
   "outputs": [],
   "source": [
    "# Basic dataset information\nprint('=== DATASET OVERVIEW ===')\nprint(f'Shape: {df.shape}')\nprint(f'Memory usage: {df.memory_usage(deep=True).sum() / 1024**2:.2f} MB')\nprint('\\n=== FRAUD STATISTICS ===')\nprint(f'Total transactions: {len(df):,}')\nprint(f'Fraud cases: {df[\"Class\"].sum():,}')\nprint(f'Normal cases: {(df[\"Class\"] == 0).sum():,}')\nprint(f'Fraud rate: {df[\"Class\"].mean():.4f} ({df[\"Class\"].mean()*100:.2f}%)')"
   ]
  }
 ],
 "metadata": {
  "kernelspec": {
   "display_name": "Python 3",
   "language": "python",
   "name": "python3"
  },
  "language_info": {
   "codemirror_mode": {
    "name": "ipython",
    "version": 3
   },
   "file_extension": ".py",
   "mimetype": "text/x-python",
   "name": "python",
   "nbconvert_exporter": "python",
   "pygments_lexer": "ipython3",
   "version": "3.8.5"
  }
 },
 "nbformat": 4,
 "nbformat_minor": 4
}
